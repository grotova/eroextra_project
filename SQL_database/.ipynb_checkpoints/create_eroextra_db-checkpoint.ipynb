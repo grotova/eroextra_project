{
 "cells": [
  {
   "cell_type": "markdown",
   "id": "476cd949",
   "metadata": {},
   "source": [
    "# eRO-ExTra database setup\n",
    "\n",
    "This notebook creates a SQL database **eroextra.db** containing the full catalog of 304 eRO-ExTra sources.\n",
    "\n",
    "### The following tables are created:\n",
    "\n",
    "- **\"eroextra_master_erosita\"** - the master catalog of 304 X-ray sources with eROSITA with their key X-ray properties\n",
    "- **\"optical_follow_up\"** - a table of optical follow-up observations conducted this study, linked to corresponding X-ray sources"
   ]
  },
  {
   "cell_type": "code",
   "execution_count": 1,
   "id": "a95db340",
   "metadata": {},
   "outputs": [],
   "source": [
    "import sqlite3\n",
    "from astropy.io import fits\n",
    "import ast\n",
    "import numpy as np\n",
    "\n",
    "from fits_utils import parse_numeric_field,parse_instrument_field,safe_field_access"
   ]
  },
  {
   "cell_type": "code",
   "execution_count": 2,
   "id": "97fc9bc5",
   "metadata": {},
   "outputs": [],
   "source": [
    "#load the master ero-extra catalog in fits format\n",
    "eroextra_catalog_fits = 'data/eroextra_final.fits'\n",
    "with fits.open(eroextra_catalog_fits) as hdul:\n",
    "    eroextra_data = hdul[1].data"
   ]
  },
  {
   "cell_type": "code",
   "execution_count": 3,
   "id": "23cbc58c",
   "metadata": {},
   "outputs": [],
   "source": [
    "#load the text file with optical follow-up data\n",
    "with open(\"data/optical_data.txt\", \"r\") as f:\n",
    "    content = f.read()\n",
    "optical_data = ast.literal_eval(content)"
   ]
  },
  {
   "cell_type": "code",
   "execution_count": 4,
   "id": "7c2113e2",
   "metadata": {},
   "outputs": [],
   "source": [
    "conn = sqlite3.connect(\"eroextra.db\")\n",
    "cursor = conn.cursor()"
   ]
  },
  {
   "cell_type": "code",
   "execution_count": 5,
   "id": "ee86025a",
   "metadata": {},
   "outputs": [
    {
     "data": {
      "text/plain": [
       "<sqlite3.Cursor at 0x10abdbec0>"
      ]
     },
     "execution_count": 5,
     "metadata": {},
     "output_type": "execute_result"
    }
   ],
   "source": [
    "# Drop tables if re-running\n",
    "cursor.execute(\"DROP TABLE IF EXISTS optical_follow_up;\")\n",
    "cursor.execute(\"DROP TABLE IF EXISTS eroextra_master_erosita;\")"
   ]
  },
  {
   "cell_type": "code",
   "execution_count": 6,
   "id": "31353094",
   "metadata": {},
   "outputs": [],
   "source": [
    "# Create the eroextra_master_erosita table\n",
    "cursor.execute(\"\"\"\n",
    "CREATE TABLE eroextra_master_erosita (\n",
    "    ero_name TEXT PRIMARY KEY,\n",
    "    ero_ra REAL,\n",
    "    ero_dec REAL,\n",
    "    ero_poserr REAL,\n",
    "    ero_flux_erass1 REAL,\n",
    "    ero_flux_erass2 REAL,\n",
    "    ero_flux_erass3 REAL,\n",
    "    ero_flux_erass4 REAL,\n",
    "    ero_flux_erass5 REAL,\n",
    "    ero_flux_err_erass1 REAL,\n",
    "    ero_flux_err_erass2 REAL,\n",
    "    ero_flux_err_erass3 REAL,\n",
    "    ero_flux_err_erass4 REAL,\n",
    "    ero_flux_err_erass5 REAL,\n",
    "    amplitude REAL,\n",
    "    significance REAL,\n",
    "    ero_lcclass REAL,\n",
    "    ero_date TEXT,\n",
    "    nh REAL,\n",
    "    ero_gamma REAL,\n",
    "    ero_gamma_err REAL,\n",
    "    ero_cstat_dof TEXT,\n",
    "    ero_flux_mod REAL,\n",
    "    ero_flux_mod_err REAL\n",
    ");\n",
    "\"\"\")\n",
    "\n",
    "insert_sql = \"\"\"\n",
    "INSERT OR REPLACE INTO eroextra_master_erosita (\n",
    "    ero_name, ero_ra, ero_dec, ero_poserr,\n",
    "    ero_flux_erass1, ero_flux_erass2, ero_flux_erass3, ero_flux_erass4, ero_flux_erass5,\n",
    "    ero_flux_err_erass1, ero_flux_err_erass2, ero_flux_err_erass3, ero_flux_err_erass4, ero_flux_err_erass5,\n",
    "    amplitude, significance, ero_lcclass, ero_date, nh,\n",
    "    ero_gamma, ero_gamma_err, ero_cstat_dof, ero_flux_mod, ero_flux_mod_err\n",
    ") VALUES (\n",
    "    ?, ?, ?, ?,\n",
    "    ?, ?, ?, ?, ?,\n",
    "    ?, ?, ?, ?, ?,\n",
    "    ?, ?, ?, ?, ?,\n",
    "    ?, ?, ?, ?, ?\n",
    ");\n",
    "\"\"\"\n",
    "\n",
    "for row in eroextra_data:\n",
    "    values = (\n",
    "        row['ero_name'],\n",
    "        float(row['ero_ra']),\n",
    "        float(row['ero_dec']),\n",
    "        float(row['ero_poserr']),\n",
    "        float(row['ero_flux_erass1']),\n",
    "        float(row['ero_flux_erass2']),\n",
    "        float(row['ero_flux_erass3']),\n",
    "        float(row['ero_flux_erass4']),\n",
    "        float(row['ero_flux_erass5']),\n",
    "        float(row['ero_flux_err_erass1']),\n",
    "        float(row['ero_flux_err_erass2']),\n",
    "        float(row['ero_flux_err_erass3']),\n",
    "        float(row['ero_flux_err_erass4']),\n",
    "        float(row['ero_flux_err_erass5']),\n",
    "        float(row['amplitude']),\n",
    "        float(row['significance']),\n",
    "        float(row['ero_lcclass']),\n",
    "        row['ero_date'],  # text, no conversion needed\n",
    "        float(row['nh']),\n",
    "        float(row['ero_gamma']),\n",
    "        float(row['ero_gamma_err']),\n",
    "        row['ero_cstat_dof'],  # text, no conversion\n",
    "        float(row['ero_flux_mod']),\n",
    "        float(row['ero_flux_mod_err'])\n",
    "    )\n",
    "    cursor.execute(insert_sql, values)\n",
    "\n",
    "conn.commit()"
   ]
  },
  {
   "cell_type": "code",
   "execution_count": 7,
   "id": "9d558691",
   "metadata": {},
   "outputs": [],
   "source": [
    "# Drop and create table\n",
    "cursor.execute(\"DROP TABLE IF EXISTS archival_xray;\")\n",
    "cursor.execute(\"\"\"\n",
    "CREATE TABLE archival_xray (\n",
    "    ero_name TEXT,\n",
    "    arch_flag REAL,\n",
    "    arch_date TEXT,\n",
    "    arch_flux REAL,\n",
    "    arch_flux_err REAL,\n",
    "    arch_instrument TEXT\n",
    ");\n",
    "\"\"\")\n",
    "\n",
    "insert_sql = \"\"\"\n",
    "INSERT INTO archival_xray (\n",
    "    ero_name, arch_flag, arch_date, arch_flux, arch_flux_err, arch_instrument\n",
    ") VALUES (?, ?, ?, ?, ?, ?)\n",
    "\"\"\"\n",
    "\n",
    "for row in eroextra_data:\n",
    "    ero_name = safe_field_access(row, \"ero_name\")\n",
    "    \n",
    "    arch_flag = parse_numeric_field(safe_field_access(row, \"ARCH_FLAG\"))\n",
    "    arch_date = parse_numeric_field(safe_field_access(row, \"ARCH_DATE\"))\n",
    "    arch_flux = parse_numeric_field(safe_field_access(row, \"ARCH_FLUX\"))\n",
    "    arch_flux_err = parse_numeric_field(safe_field_access(row, \"ARCH_FLUX_ERR\"))\n",
    "    arch_instrument = parse_instrument_field(safe_field_access(row, \"ARCH_INSTRUMENT\"))\n",
    "\n",
    "    n_obs = len(arch_flag)\n",
    "\n",
    "    def safe_get(lst, idx, default):\n",
    "        return lst[idx] if idx < len(lst) else default\n",
    "\n",
    "    for i in range(n_obs):\n",
    "        values = (\n",
    "            ero_name,\n",
    "            safe_get(arch_flag, i, None),\n",
    "            str(safe_get(arch_date, i, \"\")) if safe_get(arch_date, i, None) is not None else None,\n",
    "            safe_get(arch_flux, i, None),\n",
    "            safe_get(arch_flux_err, i, None),\n",
    "            safe_get(arch_instrument, i, \"\")\n",
    "        )\n",
    "        cursor.execute(insert_sql, values)\n",
    "\n",
    "conn.commit()\n"
   ]
  },
  {
   "cell_type": "code",
   "execution_count": 8,
   "id": "f7b01b20",
   "metadata": {},
   "outputs": [],
   "source": [
    "cursor.execute(\"DROP TABLE IF EXISTS archival_xray;\")\n",
    "\n",
    "cursor.execute(\"\"\"\n",
    "CREATE TABLE archival_xray (\n",
    "    ero_name TEXT,\n",
    "    arch_flag REAL,\n",
    "    arch_date TEXT,\n",
    "    arch_flux REAL,\n",
    "    arch_flux_err REAL,\n",
    "    arch_instrument TEXT\n",
    ");\n",
    "\"\"\")\n",
    "\n",
    "def parse_numeric_field(x):\n",
    "    \"\"\"Parse numeric field to list of floats, handle None or empty.\"\"\"\n",
    "    if x is None:\n",
    "        return []\n",
    "    if isinstance(x, str):\n",
    "        x = x.strip()\n",
    "        if not x:\n",
    "            return []\n",
    "        try:\n",
    "            val = ast.literal_eval(x)\n",
    "        except Exception:\n",
    "            try:\n",
    "                return [float(x)]\n",
    "            except Exception:\n",
    "                return []\n",
    "        if isinstance(val, (list, tuple)):\n",
    "            return [float(v) for v in val]\n",
    "        else:\n",
    "            return [float(val)]\n",
    "    else:\n",
    "        return [float(x)]\n",
    "\n",
    "def parse_instrument_field(x):\n",
    "    \"\"\"Parse instrument field string, splitting on commas, handle None or empty.\"\"\"\n",
    "    if x is None:\n",
    "        return []\n",
    "    if isinstance(x, str):\n",
    "        x = x.strip()\n",
    "        if not x:\n",
    "            return []\n",
    "        if x.startswith(\"(\") and x.endswith(\")\"):\n",
    "            x = x[1:-1]\n",
    "        return [item.strip() for item in x.split(\",\")] if x else []\n",
    "    else:\n",
    "        return [str(x).strip()]\n",
    "\n",
    "def safe_field_access(row, fieldname):\n",
    "    \"\"\" Handle masked values (common in FITS tables)\"\"\"\n",
    "    try:\n",
    "        value = row[fieldname]\n",
    "        if hasattr(value, 'mask'):\n",
    "            if value.mask:\n",
    "                return None\n",
    "            else:\n",
    "                return value.data if hasattr(value, 'data') else value\n",
    "        return value\n",
    "    except (KeyError, IndexError, AttributeError):\n",
    "        return None\n",
    "\n",
    "insert_sql = \"\"\"\n",
    "INSERT INTO archival_xray (\n",
    "    ero_name, arch_flag, arch_date, arch_flux, arch_flux_err, arch_instrument\n",
    ") VALUES (?, ?, ?, ?, ?, ?)\n",
    "\"\"\"\n",
    "\n",
    "for row in eroextra_data:\n",
    "    ero_name = safe_field_access(row, \"ero_name\")\n",
    "    \n",
    "    arch_flag = parse_numeric_field(safe_field_access(row, \"ARCH_FLAG\"))\n",
    "    arch_date = parse_numeric_field(safe_field_access(row, \"ARCH_DATE\"))\n",
    "    arch_flux = parse_numeric_field(safe_field_access(row, \"ARCH_FLUX\"))\n",
    "    arch_flux_err = parse_numeric_field(safe_field_access(row, \"ARCH_FLUX_ERR\"))\n",
    "    arch_instrument = parse_instrument_field(safe_field_access(row, \"ARCH_INSTRUMENT\"))\n",
    "\n",
    "    n_obs = max(len(arch_flag), len(arch_date), len(arch_flux), len(arch_flux_err), len(arch_instrument))\n",
    "\n",
    "    def safe_get(lst, idx, default):\n",
    "        return lst[idx] if idx < len(lst) else default\n",
    "\n",
    "    for i in range(n_obs):\n",
    "        values = (\n",
    "            ero_name,\n",
    "            safe_get(arch_flag, i, None),\n",
    "            str(safe_get(arch_date, i, \"\")) if safe_get(arch_date, i, None) is not None else None,\n",
    "            safe_get(arch_flux, i, None),\n",
    "            safe_get(arch_flux_err, i, None),\n",
    "            safe_get(arch_instrument, i, \"\")\n",
    "        )\n",
    "        cursor.execute(insert_sql, values)\n",
    "\n",
    "conn.commit()\n"
   ]
  },
  {
   "cell_type": "code",
   "execution_count": 10,
   "id": "268de5bf",
   "metadata": {},
   "outputs": [
    {
     "name": "stdout",
     "output_type": "stream",
     "text": [
      "('1eRASS J014135.0-524620', 0.0, '53504.0', 1.3852e-12, -1.0, 'XMM-Newton slew')\n",
      "('1eRASS J014135.0-524620', None, '53741.0', 1.9365e-12, -1.0, 'XMM-Newton slew')\n",
      "('1eRASS J014135.0-524620', None, '53745.0', 1.4007e-12, -1.0, 'XMM-Newton slew')\n",
      "('1eRASS J014135.0-524620', None, '57359.0', 2.483e-12, -1.0, 'XMM-Newton slew')\n",
      "('1eRASS J014135.0-524620', None, '48083.0', 6.1098e-13, -1.0, 'ROSAT-Survey')\n"
     ]
    }
   ],
   "source": [
    "cursor.execute(\"SELECT * FROM archival_xray WHERE ero_name = '1eRASS J014135.0-524620';\")\n",
    "rows = cursor.fetchall()\n",
    "\n",
    "for row in rows:\n",
    "    print(row)"
   ]
  },
  {
   "cell_type": "code",
   "execution_count": 10,
   "id": "43798bdf",
   "metadata": {},
   "outputs": [
    {
     "data": {
      "text/plain": [
       "<sqlite3.Cursor at 0x1075b3e40>"
      ]
     },
     "execution_count": 10,
     "metadata": {},
     "output_type": "execute_result"
    }
   ],
   "source": [
    "# Create the optical_follow_up table\n",
    "cursor.execute(\"\"\"\n",
    "CREATE TABLE archival_xray (\n",
    "    id INTEGER PRIMARY KEY AUTOINCREMENT,  -- unique ID for each row\n",
    "    ero_name TEXT NOT NULL,\n",
    "    arch_flag REAL,\n",
    "    arch_date TEXT,\n",
    "    arch_flux REAL,\n",
    "    arch_flux_err REAL,\n",
    "    arch_instrument TEXT,\n",
    "    FOREIGN KEY (ero_name) REFERENCES eroextra_master_erosita(ero_name)\n",
    ");\n",
    "\"\"\")\n",
    "\n",
    "insert_sql = \"\"\"\n",
    "INSERT INTO optical_follow_up \n",
    "    (ero_name, ra, dec, redshift, date, telescope, instrument) \n",
    "VALUES (?, ?, ?, ?, ?, ?, ?);\n",
    "\"\"\"\n",
    "\n",
    "# Insert all rows in a batch\n",
    "cursor.executemany(insert_sql, optical_data)"
   ]
  },
  {
   "cell_type": "code",
   "execution_count": 12,
   "id": "6ca3941f",
   "metadata": {},
   "outputs": [
    {
     "name": "stdout",
     "output_type": "stream",
     "text": [
      "(1, 'eRASSU J001308.6-462524', 3.2844, -46.422, 0.198, '2022-07-03', 'La Silla/NTT', 'EFOSC2')\n",
      "(2, '1eRASS J004058.3-683816', 10.2434, -68.6388, 0.151, '2023-12-25', 'La Silla/NTT', 'EFOSC2')\n",
      "(3, 'eRASSU J011430.8-593654', 18.6292, -59.6156, 0.156, '2020-12-12', 'Las Campanas/Baade', 'IMACS')\n",
      "(4, '1eRASS J014133.4-443413', 25.3891, -44.5706, 0.091, '2021-12-06', 'La Silla/NTT', 'EFOSC2')\n",
      "(5, '1eRASS J015752.7-520716', 29.4716, -52.1208, 0.499, '2023-12-23', 'La Silla/NTT', 'EFOSC2')\n",
      "(6, '1eRASS J022756.0-840730', 36.9827, -84.1246, 0.102, '2022-12-31', 'Siding Spring/LCO', 'FLOYDS')\n",
      "(7, '1eRASS J024140.3-422435', 40.4171, -42.4102, 0.214, '2023-02-03', 'La Silla/NTT', 'EFOSC2')\n",
      "(8, '1eRASS J024930.1-274958', 42.3771, -27.8327, 0.089, '2023-12-23', 'La Silla/NTT', 'EFOSC2')\n",
      "(9, 'eRASSU J030334.1-544438', 45.8917, -54.7442, 0.091, '2020-10-14', 'Sutherland/SALT', 'RSS')\n",
      "(10, 'eRASSU J034425.8-332719', 56.1084, -33.4553, 0.092, '2020-08-22', 'Siding Spring/ANU 2.3m', 'WiFeS')\n"
     ]
    }
   ],
   "source": [
    "cursor.execute(\"SELECT * FROM optical_follow_up LIMIT 10;\")\n",
    "rows = cursor.fetchall()\n",
    "\n",
    "for row in rows:\n",
    "    print(row)"
   ]
  },
  {
   "cell_type": "code",
   "execution_count": 15,
   "id": "03e14fdc",
   "metadata": {},
   "outputs": [],
   "source": [
    "#commit and close the connection\n",
    "conn.commit()\n",
    "conn.close()"
   ]
  },
  {
   "cell_type": "code",
   "execution_count": 16,
   "id": "8ed3263a",
   "metadata": {},
   "outputs": [
    {
     "name": "stdout",
     "output_type": "stream",
     "text": [
      "[('sqlite_sequence',), ('eroextra_master_erosita',), ('optical_follow_up',)]\n"
     ]
    }
   ],
   "source": [
    "conn = sqlite3.connect(\"eroextra.db\")\n",
    "cursor = conn.cursor()\n",
    "\n",
    "# Show all tables\n",
    "cursor.execute(\"SELECT name FROM sqlite_master WHERE type='table';\")\n",
    "print(cursor.fetchall())\n",
    "\n",
    "conn.close()"
   ]
  },
  {
   "cell_type": "code",
   "execution_count": null,
   "id": "d2414243",
   "metadata": {},
   "outputs": [],
   "source": []
  }
 ],
 "metadata": {
  "kernelspec": {
   "display_name": "Python 3 (ipykernel)",
   "language": "python",
   "name": "python3"
  },
  "language_info": {
   "codemirror_mode": {
    "name": "ipython",
    "version": 3
   },
   "file_extension": ".py",
   "mimetype": "text/x-python",
   "name": "python",
   "nbconvert_exporter": "python",
   "pygments_lexer": "ipython3",
   "version": "3.10.8"
  }
 },
 "nbformat": 4,
 "nbformat_minor": 5
}
