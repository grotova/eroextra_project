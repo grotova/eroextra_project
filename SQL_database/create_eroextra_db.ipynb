{
 "cells": [
  {
   "cell_type": "markdown",
   "id": "476cd949",
   "metadata": {},
   "source": [
    "# eRO-ExTra database setup\n",
    "\n",
    "This notebook creates a SQL database **eroextra.db** containing the full catalog of 304 eRO-ExTra sources.\n",
    "\n",
    "### The following tables are created:\n",
    "\n",
    "- **\"eroextra_master_erosita\"** - the master catalog of 304 X-ray sources with eROSITA with their key X-ray properties\n",
    "- **\"optical_follow_up\"** - a table of optical follow-up observations conducted this study, linked to corresponding X-ray sources"
   ]
  },
  {
   "cell_type": "code",
   "execution_count": 1,
   "id": "a95db340",
   "metadata": {},
   "outputs": [],
   "source": [
    "import sqlite3\n",
    "from astropy.io import fits\n",
    "import ast"
   ]
  },
  {
   "cell_type": "code",
   "execution_count": 2,
   "id": "97fc9bc5",
   "metadata": {},
   "outputs": [],
   "source": [
    "#load the master ero-extra catalog in fits format\n",
    "eroextra_catalog_fits = 'data/eroextra_final.fits'\n",
    "with fits.open(eroextra_catalog_fits) as hdul:\n",
    "    eroextra_data = hdul[1].data"
   ]
  },
  {
   "cell_type": "code",
   "execution_count": 3,
   "id": "e5f3661c",
   "metadata": {},
   "outputs": [],
   "source": [
    "#load the text file with optical follow-up data\n",
    "with open(\"data/optical_data.txt\", \"r\") as f:\n",
    "    content = f.read()\n",
    "optical_data = ast.literal_eval(content)"
   ]
  },
  {
   "cell_type": "code",
   "execution_count": 4,
   "id": "7c2113e2",
   "metadata": {},
   "outputs": [],
   "source": [
    "conn = sqlite3.connect(\"eroextra.db\")\n",
    "cursor = conn.cursor()"
   ]
  },
  {
   "cell_type": "code",
   "execution_count": 5,
   "id": "ee86025a",
   "metadata": {},
   "outputs": [
    {
     "data": {
      "text/plain": [
       "<sqlite3.Cursor at 0x1075b3e40>"
      ]
     },
     "execution_count": 5,
     "metadata": {},
     "output_type": "execute_result"
    }
   ],
   "source": [
    "# Drop tables if re-running\n",
    "cursor.execute(\"DROP TABLE IF EXISTS optical_follow_up;\")\n",
    "cursor.execute(\"DROP TABLE IF EXISTS eroextra_master_erosita;\")"
   ]
  },
  {
   "cell_type": "code",
   "execution_count": 6,
   "id": "31353094",
   "metadata": {},
   "outputs": [
    {
     "data": {
      "text/plain": [
       "<sqlite3.Cursor at 0x1075b3e40>"
      ]
     },
     "execution_count": 6,
     "metadata": {},
     "output_type": "execute_result"
    }
   ],
   "source": [
    "# Create the eroextra_master_erosita table\n",
    "cursor.execute(\"\"\"\n",
    "CREATE TABLE eroextra_master_erosita (\n",
    "    ero_name TEXT PRIMARY KEY,\n",
    "    ero_ra REAL,\n",
    "    ero_dec REAL,\n",
    "    ero_poserr REAL,\n",
    "    ero_flux_erass1 REAL,\n",
    "    ero_flux_erass2 REAL,\n",
    "    ero_flux_erass3 REAL,\n",
    "    ero_flux_erass4 REAL,\n",
    "    ero_flux_erass5 REAL,\n",
    "    ero_flux_err_erass1 REAL,\n",
    "    ero_flux_err_erass2 REAL,\n",
    "    ero_flux_err_erass3 REAL,\n",
    "    ero_flux_err_erass4 REAL,\n",
    "    ero_flux_err_erass5 REAL,\n",
    "    amplitude REAL,\n",
    "    significance REAL,\n",
    "    ero_lcclass REAL,\n",
    "    ero_date TEXT,\n",
    "    nh REAL,\n",
    "    ero_gamma REAL,\n",
    "    ero_gamma_err REAL,\n",
    "    ero_cstat_dof TEXT,\n",
    "    ero_flux_mod REAL,\n",
    "    ero_flux_mod_err REAL\n",
    ");\n",
    "\"\"\")"
   ]
  },
  {
   "cell_type": "code",
   "execution_count": 8,
   "id": "928e5352",
   "metadata": {},
   "outputs": [],
   "source": [
    "insert_sql = \"\"\"\n",
    "INSERT OR REPLACE INTO eroextra_master_erosita (\n",
    "    ero_name, ero_ra, ero_dec, ero_poserr,\n",
    "    ero_flux_erass1, ero_flux_erass2, ero_flux_erass3, ero_flux_erass4, ero_flux_erass5,\n",
    "    ero_flux_err_erass1, ero_flux_err_erass2, ero_flux_err_erass3, ero_flux_err_erass4, ero_flux_err_erass5,\n",
    "    amplitude, significance, ero_lcclass, ero_date, nh,\n",
    "    ero_gamma, ero_gamma_err, ero_cstat_dof, ero_flux_mod, ero_flux_mod_err\n",
    ") VALUES (\n",
    "    ?, ?, ?, ?,\n",
    "    ?, ?, ?, ?, ?,\n",
    "    ?, ?, ?, ?, ?,\n",
    "    ?, ?, ?, ?, ?,\n",
    "    ?, ?, ?, ?, ?\n",
    ");\n",
    "\"\"\"\n",
    "\n",
    "for row in eroextra_data:\n",
    "    values = (\n",
    "        row['ero_name'],\n",
    "        float(row['ero_ra']),\n",
    "        float(row['ero_dec']),\n",
    "        float(row['ero_poserr']),\n",
    "        float(row['ero_flux_erass1']),\n",
    "        float(row['ero_flux_erass2']),\n",
    "        float(row['ero_flux_erass3']),\n",
    "        float(row['ero_flux_erass4']),\n",
    "        float(row['ero_flux_erass5']),\n",
    "        float(row['ero_flux_err_erass1']),\n",
    "        float(row['ero_flux_err_erass2']),\n",
    "        float(row['ero_flux_err_erass3']),\n",
    "        float(row['ero_flux_err_erass4']),\n",
    "        float(row['ero_flux_err_erass5']),\n",
    "        float(row['amplitude']),\n",
    "        float(row['significance']),\n",
    "        float(row['ero_lcclass']),\n",
    "        row['ero_date'],  # text, no conversion needed\n",
    "        float(row['nh']),\n",
    "        float(row['ero_gamma']),\n",
    "        float(row['ero_gamma_err']),\n",
    "        row['ero_cstat_dof'],  # text, no conversion\n",
    "        float(row['ero_flux_mod']),\n",
    "        float(row['ero_flux_mod_err'])\n",
    "    )\n",
    "    cursor.execute(insert_sql, values)\n",
    "\n",
    "conn.commit()"
   ]
  },
  {
   "cell_type": "code",
   "execution_count": 9,
   "id": "9ab8c422",
   "metadata": {},
   "outputs": [
    {
     "name": "stdout",
     "output_type": "stream",
     "text": [
      "('1eRASS J000258.3-401950', 0.7411180461535105, -40.33086651370921, 0.9081184688516774, 1.7011042639618335e-13, 7.950998258225705e-13, 5.51243946322888e-13, 1.1131085202870095e-12, None, 4.404208117994579e-14, 8.59647097430083e-14, 7.625111208674901e-14, 1.0677544867157204e-13, None, 4.674021708527148, 6.470536846692182, 4.0, '(58994.6,59181.8,59363.1,59548.7)', 1.2299999965027815e+20, 1.9002655901512076, 0.18541015403361488, '1158.15/1549', 8.69272297182996e-13, 9.216420358842665e-14)\n",
      "('1eRASS J001053.3-334021', 2.7223018808188932, -33.67247573213791, 1.6461938656361548, 6.005892940093294e-13, 1.20545297376852e-13, 9.911309376301955e-14, 6.652233560007492e-14, None, 8.301912217574536e-14, 4.609612930077389e-14, -1.0, 2.7215575171095352e-14, None, 4.982270624226433, 5.055328144627522, 1.0, '(58998.5,59185.5,59367.0,59553.6)', 1.3200000370092697e+20, 1.9852319812169192, 0.2349214548569039, '1015.87/1549', 6.402407214959363e-13, 8.72574632202884e-14)\n",
      "('eRASSU J001308.6-462524', 3.285642949543118, -46.4232193156534, 1.7464922903134656, 6.414442951406182e-14, 5.853946884529226e-13, 7.029061577581985e-14, 4.860973006493713e-14, None, -1.0, 8.568757411519384e-14, 3.167579994958411e-14, 2.3058727101126983e-14, None, 9.126197049887892, 6.083148764087059, 2.0, '(58993.2,59179.0,59361.6,59547.1)', 1.6600000825259773e+20, 2.024459121312218, 0.2800626297716085, '1110.94/1549', 6.390530186305647e-13, 9.256808756412182e-14)\n",
      "('1eRASS J003902.6-611323', 9.761543135642487, -61.22328259792888, 1.9467787669626744, 3.889379459774342e-14, 2.4119345843481854e-13, 1.4454904558470344e-13, 6.048329561801277e-14, None, 1.6709942416846986e-14, 4.503328591108635e-14, 3.627263081367425e-14, -1.0, None, 6.201335224020861, 4.21163508923059, 2.0, '(58985.3,59169.6,59351.9,59536.7)', 1.5799999683327164e+20, 2.3582648479673654, 0.34487085090484587, '968.77/1549', 2.6563020876197664e-13, 4.870833441019977e-14)\n",
      "('1eRASS J004058.3-683816', 10.24250627438524, -68.63816950989155, 1.3386160426738851, 6.465522019681591e-13, 5.843381469883627e-14, 9.866119152126401e-14, 3.1765283898263844e-14, None, 6.378387130533819e-14, 2.1936908195453915e-14, 2.7935007687043475e-14, 1.4865321498161617e-14, None, 11.06469268351627, 8.71922026873413, 1.0, '(58976.5,59161.9,59344.8,59528.9)', 2.5399999312769633e+20, 2.130469619622707, 0.17349655464558492, '1139.66/1549', 6.993555108333454e-13, 6.601600637165137e-14)\n"
     ]
    }
   ],
   "source": [
    "cursor.execute(\"SELECT * FROM eroextra_master_erosita LIMIT 5;\")\n",
    "rows = cursor.fetchall()\n",
    "\n",
    "for row in rows:\n",
    "    print(row)"
   ]
  },
  {
   "cell_type": "code",
   "execution_count": 10,
   "id": "9516f764",
   "metadata": {},
   "outputs": [
    {
     "data": {
      "text/plain": [
       "<sqlite3.Cursor at 0x1075b3e40>"
      ]
     },
     "execution_count": 10,
     "metadata": {},
     "output_type": "execute_result"
    }
   ],
   "source": [
    "# Create the optical_follow_up table\n",
    "cursor.execute(\"\"\"\n",
    "CREATE TABLE optical_follow_up (\n",
    "    id INTEGER PRIMARY KEY AUTOINCREMENT,\n",
    "    ero_name TEXT,\n",
    "    ra REAL,\n",
    "    dec REAL,\n",
    "    redshift REAL,\n",
    "    date TEXT,\n",
    "    telescope TEXT,\n",
    "    instrument TEXT,\n",
    "    FOREIGN KEY (ero_name) REFERENCES eroextra_master_erosita(ero_name)\n",
    ");\n",
    "\"\"\")\n",
    "\n",
    "insert_sql = \"\"\"\n",
    "INSERT INTO optical_follow_up \n",
    "    (ero_name, ra, dec, redshift, date, telescope, instrument) \n",
    "VALUES (?, ?, ?, ?, ?, ?, ?);\n",
    "\"\"\"\n",
    "\n",
    "# Insert all rows in a batch\n",
    "cursor.executemany(insert_sql, optical_data)"
   ]
  },
  {
   "cell_type": "code",
   "execution_count": 12,
   "id": "e57f5bd5",
   "metadata": {},
   "outputs": [
    {
     "name": "stdout",
     "output_type": "stream",
     "text": [
      "(1, 'eRASSU J001308.6-462524', 3.2844, -46.422, 0.198, '2022-07-03', 'La Silla/NTT', 'EFOSC2')\n",
      "(2, '1eRASS J004058.3-683816', 10.2434, -68.6388, 0.151, '2023-12-25', 'La Silla/NTT', 'EFOSC2')\n",
      "(3, 'eRASSU J011430.8-593654', 18.6292, -59.6156, 0.156, '2020-12-12', 'Las Campanas/Baade', 'IMACS')\n",
      "(4, '1eRASS J014133.4-443413', 25.3891, -44.5706, 0.091, '2021-12-06', 'La Silla/NTT', 'EFOSC2')\n",
      "(5, '1eRASS J015752.7-520716', 29.4716, -52.1208, 0.499, '2023-12-23', 'La Silla/NTT', 'EFOSC2')\n",
      "(6, '1eRASS J022756.0-840730', 36.9827, -84.1246, 0.102, '2022-12-31', 'Siding Spring/LCO', 'FLOYDS')\n",
      "(7, '1eRASS J024140.3-422435', 40.4171, -42.4102, 0.214, '2023-02-03', 'La Silla/NTT', 'EFOSC2')\n",
      "(8, '1eRASS J024930.1-274958', 42.3771, -27.8327, 0.089, '2023-12-23', 'La Silla/NTT', 'EFOSC2')\n",
      "(9, 'eRASSU J030334.1-544438', 45.8917, -54.7442, 0.091, '2020-10-14', 'Sutherland/SALT', 'RSS')\n",
      "(10, 'eRASSU J034425.8-332719', 56.1084, -33.4553, 0.092, '2020-08-22', 'Siding Spring/ANU 2.3m', 'WiFeS')\n"
     ]
    }
   ],
   "source": [
    "cursor.execute(\"SELECT * FROM optical_follow_up LIMIT 10;\")\n",
    "rows = cursor.fetchall()\n",
    "\n",
    "for row in rows:\n",
    "    print(row)"
   ]
  },
  {
   "cell_type": "code",
   "execution_count": 15,
   "id": "03e14fdc",
   "metadata": {},
   "outputs": [],
   "source": [
    "#commit and close the connection\n",
    "conn.commit()\n",
    "conn.close()"
   ]
  },
  {
   "cell_type": "code",
   "execution_count": 16,
   "id": "8ed3263a",
   "metadata": {},
   "outputs": [
    {
     "name": "stdout",
     "output_type": "stream",
     "text": [
      "[('sqlite_sequence',), ('eroextra_master_erosita',), ('optical_follow_up',)]\n"
     ]
    }
   ],
   "source": [
    "conn = sqlite3.connect(\"eroextra.db\")\n",
    "cursor = conn.cursor()\n",
    "\n",
    "# Show all tables\n",
    "cursor.execute(\"SELECT name FROM sqlite_master WHERE type='table';\")\n",
    "print(cursor.fetchall())\n",
    "\n",
    "conn.close()"
   ]
  },
  {
   "cell_type": "code",
   "execution_count": null,
   "id": "d2414243",
   "metadata": {},
   "outputs": [],
   "source": []
  }
 ],
 "metadata": {
  "kernelspec": {
   "display_name": "Python 3 (ipykernel)",
   "language": "python",
   "name": "python3"
  },
  "language_info": {
   "codemirror_mode": {
    "name": "ipython",
    "version": 3
   },
   "file_extension": ".py",
   "mimetype": "text/x-python",
   "name": "python",
   "nbconvert_exporter": "python",
   "pygments_lexer": "ipython3",
   "version": "3.10.8"
  }
 },
 "nbformat": 4,
 "nbformat_minor": 5
}
